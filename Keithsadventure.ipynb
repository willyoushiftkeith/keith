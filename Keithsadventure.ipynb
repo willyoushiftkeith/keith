{
 "cells": [
  {
   "cell_type": "code",
   "execution_count": 1,
   "metadata": {
    "collapsed": false
   },
   "outputs": [
    {
     "name": "stdout",
     "output_type": "stream",
     "text": [
      "Hi, My name is Keet\n"
     ]
    }
   ],
   "source": [
    "print(\"Hi, My name is Keet\")"
   ]
  },
  {
   "cell_type": "code",
   "execution_count": 2,
   "metadata": {
    "collapsed": false
   },
   "outputs": [
    {
     "name": "stdout",
     "output_type": "stream",
     "text": [
      "will you shift me? (y/n)n\n",
      "Oh...\n",
      "sure?(y/n)n\n",
      "so you do want to?n\n",
      "GAME OVER\n",
      "Would you like to play again?(y/n)y\n",
      "will you shift me? (y/n)n\n",
      "Oh...\n",
      "sure?(y/n)y\n",
      "GAME OVER\n",
      "Would you like to play again?(y/n)n\n"
     ]
    }
   ],
   "source": [
    "r=0\n",
    "while(r==0):\n",
    "    x=input(\"will you shift me? (y/n)\")\n",
    "    if(x==\"y\"):\n",
    "        print(\"Keet is about to kiss you\")\n",
    "    else:\n",
    "        print(\"Oh...\")\n",
    "        y=input(\"sure?(y/n)\")\n",
    "        if(y==\"n\"):\n",
    "            w=input(\"so you do want to?\")\n",
    "            if(w==\"y\"):\n",
    "                print(\"prepare your mouth\")\n",
    "                print(\"Welcome to the meat canyon\")\n",
    "            else:\n",
    "                print(\"GAME OVER\")\n",
    "                z=input(\"Would you like to play again?(y/n)\")\n",
    "                if(z==\"y\"):\n",
    "                    r=0\n",
    "                else:\n",
    "                    r=1\n",
    "        else:\n",
    "            print(\"GAME OVER\")\n",
    "            z=input(\"Would you like to play again?(y/n)\")\n",
    "            if(z==\"y\"):\n",
    "                r=0\n",
    "            else:\n",
    "                r=1"
   ]
  },
  {
   "cell_type": "code",
   "execution_count": null,
   "metadata": {
    "collapsed": true
   },
   "outputs": [],
   "source": []
  }
 ],
 "metadata": {
  "kernelspec": {
   "display_name": "Python 3",
   "language": "python",
   "name": "python3"
  },
  "language_info": {
   "codemirror_mode": {
    "name": "ipython",
    "version": 3
   },
   "file_extension": ".py",
   "mimetype": "text/x-python",
   "name": "python",
   "nbconvert_exporter": "python",
   "pygments_lexer": "ipython3",
   "version": "3.5.1"
  }
 },
 "nbformat": 4,
 "nbformat_minor": 0
}
